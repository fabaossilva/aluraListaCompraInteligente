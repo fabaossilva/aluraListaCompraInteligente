{
  "nbformat": 4,
  "nbformat_minor": 0,
  "metadata": {
    "colab": {
      "provenance": []
    },
    "kernelspec": {
      "name": "python3",
      "display_name": "Python 3"
    },
    "language_info": {
      "name": "python"
    }
  },
  "cells": [
    {
      "cell_type": "code",
      "source": [
        "%pip -q install google-genai PyPDF2 google-adk"
      ],
      "metadata": {
        "id": "i9S1TQMXXgGj"
      },
      "execution_count": 88,
      "outputs": []
    },
    {
      "cell_type": "code",
      "execution_count": 89,
      "metadata": {
        "id": "_Jp5ZY5Olud0"
      },
      "outputs": [],
      "source": [
        "# Configura a API Key do Google Gemini\n",
        "\n",
        "import os\n",
        "import glob\n",
        "from google.colab import userdata\n",
        "import logging\n",
        "\n",
        "os.environ[\"GOOGLE_API_KEY\"] = userdata.get('GOOGLE_API_KEY')"
      ]
    },
    {
      "cell_type": "code",
      "source": [
        "# Configura o cliente da SDK do Gemini\n",
        "\n",
        "from google import genai\n",
        "\n",
        "client = genai.Client()\n",
        "\n",
        "MODEL_ID = \"gemini-2.0-flash\""
      ],
      "metadata": {
        "id": "za5YM4oynprr"
      },
      "execution_count": 90,
      "outputs": []
    },
    {
      "cell_type": "code",
      "source": [
        "from google.adk.agents import Agent\n",
        "from google.adk.runners import Runner\n",
        "from google.adk.sessions import InMemorySessionService\n",
        "from google.genai import types  # Para criar conteúdos (Content e Part)\n",
        "from datetime import date\n",
        "import textwrap # Para formatar melhor a saída de texto\n",
        "from IPython.display import display, Markdown # Para exibir texto formatado no Colab\n",
        "import requests # Para fazer requisições HTTP\n",
        "import warnings\n",
        "\n",
        "warnings.filterwarnings(\"ignore\")"
      ],
      "metadata": {
        "id": "Ubb4rZrNUN6e"
      },
      "execution_count": 91,
      "outputs": []
    },
    {
      "cell_type": "code",
      "source": [
        "#Excelente para extrair texto, tabelas e informações de layout.\n",
        "import pdfplumber\n",
        "import PyPDF2\n",
        "logging.getLogger(\"pdfminer.pdfpage\").setLevel(logging.ERROR)"
      ],
      "metadata": {
        "id": "f0dgxlBGYEzW"
      },
      "execution_count": 92,
      "outputs": []
    },
    {
      "cell_type": "code",
      "source": [
        "print(\"🚀 Iniciando o Sistema Gerador de Lista de Compras Necessárias 🚀\")"
      ],
      "metadata": {
        "colab": {
          "base_uri": "https://localhost:8080/"
        },
        "id": "lNQBohaLpz7T",
        "outputId": "96d17d0c-426e-424e-fdd7-de444785ae79"
      },
      "execution_count": 93,
      "outputs": [
        {
          "output_type": "stream",
          "name": "stdout",
          "text": [
            "🚀 Iniciando o Sistema Gerador de Lista de Compras Necessárias 🚀\n"
          ]
        }
      ]
    },
    {
      "cell_type": "code",
      "source": [],
      "metadata": {
        "id": "mRKbWC6zxV7v"
      },
      "execution_count": 93,
      "outputs": []
    },
    {
      "cell_type": "code",
      "source": [
        "def extract_text_from_pdf_pdfplumber(pdf_path):\n",
        "    \"\"\"Extrai texto de um PDF usando pdfplumber.\"\"\"\n",
        "    text = \"\"\n",
        "    try:\n",
        "        with pdfplumber.open(pdf_path) as pdf:\n",
        "            for page in pdf.pages:\n",
        "                page_text = page.extract_text()\n",
        "                if page_text:\n",
        "                    text += page_text + \"\\n\" # Adiciona nova linha entre páginas\n",
        "        #print(f\"Texto extraído com pdfplumber (primeiros 500 chars): {text[:500]}...\")\n",
        "        return text\n",
        "    except Exception as e:\n",
        "        print(f\"Erro ao extrair texto com pdfplumber: {e}\")\n",
        "        return None"
      ],
      "metadata": {
        "id": "TpJycA9JX69J"
      },
      "execution_count": 94,
      "outputs": []
    },
    {
      "cell_type": "code",
      "source": [
        "def get_text_all_pdf():\n",
        "\n",
        "  text_all = \"\"\n",
        "  datas = \"\"\n",
        "  caminho_da_pasta = \"/content/compras\"\n",
        "  # Constrói o padrão de busca por arquivos .pdf dentro da pasta\n",
        "  # os.path.join garante que o caminho funcione em diferentes sistemas operacionais\n",
        "  padrao_busca = os.path.join(caminho_da_pasta, \"*.pdf\")\n",
        "  # Usa glob para encontrar todos os arquivos que correspondem ao padrão\n",
        "  arquivos_pdf = glob.glob(padrao_busca)\n",
        "  if not arquivos_pdf:\n",
        "        print(f\"Nenhum arquivo PDF encontrado na pasta: {caminho_da_pasta}\")\n",
        "        return\n",
        "\n",
        "  print(f\"Encontrados {len(arquivos_pdf)} arquivos PDF na pasta {caminho_da_pasta}:\")\n",
        "\n",
        "  for caminho_arquivo in arquivos_pdf:\n",
        "    #print(f\"\\n--- Lendo arquivo: {os.path.basename(caminho_arquivo)} ---\") # os.path.basename pega só o nome do arquivo\n",
        "    try:\n",
        "        # Abre o arquivo PDF em modo binário de leitura ('rb')\n",
        "        with open(caminho_arquivo, 'rb') as arquivo_pdf:\n",
        "\n",
        "            #Pega a data da compra no título\n",
        "            data_compra = os.path.basename(caminho_arquivo).replace(\".pdf\", \"\")\n",
        "\n",
        "            text_all = text_all + \"\\nItens comprados no dia \" + data_compra + \"\\n\"\n",
        "\n",
        "            if(datas!=\"\"):\n",
        "              datas = datas + \", \"\n",
        "\n",
        "            datas = datas + data_compra\n",
        "\n",
        "            # Cria um objeto PdfReader\n",
        "            texto = extract_text_from_pdf_pdfplumber(caminho_arquivo)\n",
        "\n",
        "            text_all = text_all + texto\n",
        "\n",
        "            text_all = text_all + \"fim da compra\\n\"\n",
        "\n",
        "    except FileNotFoundError:\n",
        "        print(f\"  Erro: Arquivo não encontrado {caminho_arquivo}. Isso não deveria acontecer com glob.\")\n",
        "    except Exception as e:\n",
        "        print(f\"  Ocorreu um erro inesperado ao processar {os.path.basename(caminho_arquivo)}: {e}\")\n",
        "\n",
        "  #print(datas)\n",
        "  #print(text_all)\n",
        "  return datas, text_all\n"
      ],
      "metadata": {
        "id": "gKGH8eTxZWPp"
      },
      "execution_count": 95,
      "outputs": []
    },
    {
      "cell_type": "code",
      "source": [
        "# Função auxiliar que envia uma mensagem para um agente via Runner e retorna a resposta final\n",
        "def call_agent(agent: Agent, message_text: str) -> str:\n",
        "    # Cria um serviço de sessão em memória\n",
        "    session_service = InMemorySessionService()\n",
        "    # Cria uma nova sessão (você pode personalizar os IDs conforme necessário)\n",
        "    session = session_service.create_session(app_name=agent.name, user_id=\"user1\", session_id=\"session1\")\n",
        "    # Cria um Runner para o agente\n",
        "    runner = Runner(agent=agent, app_name=agent.name, session_service=session_service)\n",
        "    # Cria o conteúdo da mensagem de entrada\n",
        "    content = types.Content(role=\"user\", parts=[types.Part(text=message_text)])\n",
        "\n",
        "    final_response = \"\"\n",
        "    # Itera assincronamente pelos eventos retornados durante a execução do agente\n",
        "    for event in runner.run(user_id=\"user1\", session_id=\"session1\", new_message=content):\n",
        "        if event.is_final_response():\n",
        "          for part in event.content.parts:\n",
        "            if part.text is not None:\n",
        "              final_response += part.text\n",
        "              final_response += \"\\n\"\n",
        "    return final_response"
      ],
      "metadata": {
        "id": "_xP4lWhsS5ko"
      },
      "execution_count": 96,
      "outputs": []
    },
    {
      "cell_type": "code",
      "source": [
        "################################################\n",
        "# --- Agente 1: resumidor de compras --- #\n",
        "# --- lê todos os pdfs de lista de compras realizadas --- #\n",
        "# --- e gera uma lista com todos os itens, totalizando a--- #\n",
        "# --- quantidade comprada, media de consumo por dia e--- #\n",
        "# --- a data da ultima compra--- #\n",
        "################################################\n",
        "def agente_resumidor_compras(historico, intervalo):\n",
        "    planejador = Agent(\n",
        "        name=\"agente_resumidor_compras\",\n",
        "        model=\"gemini-2.0-flash\",\n",
        "        # Inserir as instruções do Agente Planejador #################################################\n",
        "        instruction=\"\"\"\n",
        "        Basealo no histórico de compras\n",
        "        Gere uma lista contendo o Nome do Item, quatidade total comprada,\n",
        "        média por dia (quatidade total comprada dividida pelo Intervalo entre compas calculado na resposta anterior)\n",
        "        e a ultima data de compra, no formaro Nome - Quatidade comprada - Média por Dia - Ultima Compra\n",
        "        \"\"\",\n",
        "        description=\"Agente que lê o histórico de compas e gera um resumo\",\n",
        "        tools=[google_search]\n",
        "    )\n",
        "\n",
        "    entrada_do_agente_planejador = f\"Histórico de compras:{historico}\\nIntervalo entre compras: {intervalo}\"\n",
        "    # Executa o agente\n",
        "    plano_do_post = call_agent(planejador, entrada_do_agente_planejador)\n",
        "    return plano_do_post"
      ],
      "metadata": {
        "id": "y3VO1uo5_ghO"
      },
      "execution_count": 97,
      "outputs": []
    },
    {
      "cell_type": "code",
      "source": [
        "################################################\n",
        "# --- Agente 1: calculador intervalo em dias --- #\n",
        "# --- lê o título de todos os pdfs e calculo o intervalo --- #\n",
        "# ---  em dias entre a primeira e ultima compra--- #\n",
        "################################################\n",
        "def agente_calculador_intervalo(datas):\n",
        "    planejador = Agent(\n",
        "        name=\"agente_calculador_intervalo\",\n",
        "        model=\"gemini-2.0-flash\",\n",
        "        # Inserir as instruções do Agente Planejador #################################################\n",
        "        instruction=\"\"\"\n",
        "        utilize as datas fornecidas para calcular o intervalo em dias entre a menor e maior data\n",
        "        A sua resposta deve ser apenas o intervalo\n",
        "        \"\"\",\n",
        "        description=\"Agente que calcula o intervalo em dias entre a menor e maior data\",\n",
        "        tools=[google_search]\n",
        "    )\n",
        "\n",
        "    entrada_do_agente_planejador = f\"Datas:{datas}\"\n",
        "    # Executa o agente\n",
        "    plano_do_post = call_agent(planejador, entrada_do_agente_planejador)\n",
        "    return plano_do_post"
      ],
      "metadata": {
        "id": "Jt-l74aRS3vF"
      },
      "execution_count": 98,
      "outputs": []
    },
    {
      "cell_type": "code",
      "source": [
        "################################################\n",
        "# --- Agente 1: gerador próxima lista de compra --- #\n",
        "################################################\n",
        "def agente_gerador_lista_compras(resumo_compras,quatidade_dias_proxima_compra):\n",
        "    planejador = Agent(\n",
        "        name=\"agente_gerador_lista_compras\",\n",
        "        model=\"gemini-2.0-flash\",\n",
        "        # Inserir as instruções do Agente Planejador #################################################\n",
        "        instruction=\"\"\"\n",
        "        baseado no resumo de compras\n",
        "        considerando a media de consumo de cada item\n",
        "        gere uma lista de itens que devem ser comprados para suprir o estoque para os próximos dia de abastecimento\n",
        "        \"\"\",\n",
        "        description=\"Agente que gera a lista dos itens que precisam de abastecimento suprindo a necessidade dos próximos quatidade_dias_proxima_compra dias\",\n",
        "        tools=[google_search]\n",
        "    )\n",
        "\n",
        "    entrada_do_agente_planejador = f\"Datas:{resumo_compras}\\nDias de abastecimento: {quatidade_dias_proxima_compra}\"\n",
        "    # Executa o agente\n",
        "    plano_do_post = call_agent(planejador, entrada_do_agente_planejador)\n",
        "    return plano_do_post"
      ],
      "metadata": {
        "id": "WYGCMTqr3Tyr"
      },
      "execution_count": 99,
      "outputs": []
    },
    {
      "cell_type": "code",
      "source": [
        "quatidade_dias_proxima_compra = input(\"A sua próxima compra é para abastecer quantos dias?\")\n",
        "\n",
        "datas_compras, historico_compras = get_text_all_pdf()\n",
        "\n",
        "intervalo_entre_compras = agente_calculador_intervalo(datas_compras)\n",
        "\n",
        "\n",
        "resumo = agente_resumidor_compras(historico_compras,intervalo_entre_compras)\n",
        "\n",
        "lista_compras_para_hoje = agente_gerador_lista_compras(resumo,quatidade_dias_proxima_compra)\n",
        "\n",
        "print(lista_compras_para_hoje)"
      ],
      "metadata": {
        "colab": {
          "base_uri": "https://localhost:8080/"
        },
        "id": "nrojBAAXdFCr",
        "outputId": "c0656942-db70-43ca-854a-4c81d68f1c96"
      },
      "execution_count": null,
      "outputs": [
        {
          "output_type": "stream",
          "name": "stdout",
          "text": [
            "A sua próxima compra é para abastecer quantos dias?15\n",
            "Encontrados 15 arquivos PDF na pasta /content/compras:\n"
          ]
        }
      ]
    },
    {
      "cell_type": "code",
      "source": [],
      "metadata": {
        "id": "D-sxmyb7o6br"
      },
      "execution_count": 100,
      "outputs": []
    }
  ]
}